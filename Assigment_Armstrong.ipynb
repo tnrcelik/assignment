{
  "nbformat": 4,
  "nbformat_minor": 0,
  "metadata": {
    "colab": {
      "provenance": [],
      "collapsed_sections": [],
      "authorship_tag": "ABX9TyPP2WtnHAsRwVwDvrYyR4T8",
      "include_colab_link": true
    },
    "kernelspec": {
      "name": "python3",
      "display_name": "Python 3"
    },
    "language_info": {
      "name": "python"
    }
  },
  "cells": [
    {
      "cell_type": "markdown",
      "metadata": {
        "id": "view-in-github",
        "colab_type": "text"
      },
      "source": [
        "<a href=\"https://colab.research.google.com/github/tnrcelik/assignment/blob/main/Assigment_Armstrong.ipynb\" target=\"_parent\"><img src=\"https://colab.research.google.com/assets/colab-badge.svg\" alt=\"Open In Colab\"/></a>"
      ]
    },
    {
      "cell_type": "code",
      "execution_count": null,
      "metadata": {
        "id": "zDXLVbcabtic"
      },
      "outputs": [],
      "source": [
        "# An n-digit number that is the sum of the nth powers of its digits is called an n-Armstrong number. Examples :\n",
        "371 = 33 + 73 + 13;\n",
        "9474 = 94 + 44 + 74 + 44;\n",
        "93084 = 95 + 35 + 05 + 85 + 45.\n",
        "\n",
        "#Write a Python program that; takes a positive integer number from the user,\n",
        "#checks the entered number if it is Armstrong,\n",
        "#consider the negative, float and any entries other than numeric values then display a warning message to the user.\n",
        "#thislist = [\"apple\", \"banana\", \"cherry\"] \n",
        "#for i in range(len(thislist)):\n",
        "#print(thislist[i])\n"
      ]
    },
    {
      "cell_type": "code",
      "source": [
        "number = input(\"Please write a positive integer number \")\n",
        "numberlist = list(number)\n",
        "powers =int(len(numberlist))\n",
        "sum =0\n",
        "if number.isnumeric() == True :\n",
        "  for i in numberlist:\n",
        "    a = pow(int(i), powers)\n",
        "  sum = sum + a\n",
        "  if sum == int(number) :\n",
        "    print(\"it is an armstrong number\")\n",
        "  else :\n",
        "    print(\"it is not an armstrong number\")\n",
        "    print(sum)\n",
        "else :\n",
        "  print(\"Please enter an positive integer number\")\n",
        " \n",
        "\n",
        "  \n",
        "\n",
        "\n"
      ],
      "metadata": {
        "colab": {
          "base_uri": "https://localhost:8080/"
        },
        "id": "gdbJQP7scCG0",
        "outputId": "5dd8afee-3ad8-473c-bb74-a27365052f04"
      },
      "execution_count": null,
      "outputs": [
        {
          "output_type": "stream",
          "name": "stdout",
          "text": [
            "Please write a positive integer number 371\n",
            "it is not an armstrong number\n",
            "1\n"
          ]
        }
      ]
    },
    {
      "cell_type": "code",
      "source": [
        "number = input(\"Please write a positive integer number \")\n",
        "numberlist = list(number)\n",
        "powers =int(len(numberlist))\n",
        "sum =0\n",
        "if number.isnumeric() == True :\n",
        "  for i in numberlist:\n",
        "    a = pow(int(i), int(powers))\n",
        "    sum = sum + a\n",
        "  if sum == int(number) :\n",
        "      print(\"it is an armstrong number\")\n",
        "  else :\n",
        "      print(\"it is not an armstrong number\")\n",
        "      print(sum)\n",
        "else :\n",
        "        print(\"Please enter an positive integer number\")"
      ],
      "metadata": {
        "colab": {
          "base_uri": "https://localhost:8080/"
        },
        "id": "-pibOch3W0HO",
        "outputId": "94d087c3-f327-438d-dc2d-70926e6aba5c"
      },
      "execution_count": null,
      "outputs": [
        {
          "output_type": "stream",
          "name": "stdout",
          "text": [
            "Please write a positive integer number -153\n",
            "Please enter an positive integer number\n"
          ]
        }
      ]
    },
    {
      "cell_type": "code",
      "source": [
        "user_input = input(\"Enter the input \")\n",
        "\n",
        "print(user_input.isnumeric())"
      ],
      "metadata": {
        "colab": {
          "base_uri": "https://localhost:8080/"
        },
        "id": "3hpYR1_9Qt1x",
        "outputId": "77f1d2bb-28c9-4a26-a653-1e82ce5f80ff"
      },
      "execution_count": null,
      "outputs": [
        {
          "output_type": "stream",
          "name": "stdout",
          "text": [
            "Enter the input 10\n",
            "True\n"
          ]
        }
      ]
    },
    {
      "cell_type": "code",
      "source": [
        "a_list = [\"a \", \"b \", \"c\"]\n",
        "\n",
        "for index in range(len(a_list)):\n",
        "\n",
        "    print(a_list[index])"
      ],
      "metadata": {
        "colab": {
          "base_uri": "https://localhost:8080/"
        },
        "id": "BxU16ruxJvIj",
        "outputId": "3fc3a79d-82f4-411d-c44c-0583f879eebb"
      },
      "execution_count": null,
      "outputs": [
        {
          "output_type": "stream",
          "name": "stdout",
          "text": [
            "a \n",
            "b \n",
            "c\n"
          ]
        }
      ]
    },
    {
      "cell_type": "code",
      "source": [
        "pow (2,3)"
      ],
      "metadata": {
        "colab": {
          "base_uri": "https://localhost:8080/"
        },
        "id": "n3xB716wDJyu",
        "outputId": "f4e17d1a-d16e-4fc1-e955-450b6c745832"
      },
      "execution_count": null,
      "outputs": [
        {
          "output_type": "execute_result",
          "data": {
            "text/plain": [
              "8"
            ]
          },
          "metadata": {},
          "execution_count": 21
        }
      ]
    },
    {
      "cell_type": "code",
      "source": [],
      "metadata": {
        "id": "IRIOR58dCVfv"
      },
      "execution_count": null,
      "outputs": []
    }
  ]
}