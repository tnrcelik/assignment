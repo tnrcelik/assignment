{
  "nbformat": 4,
  "nbformat_minor": 0,
  "metadata": {
    "colab": {
      "provenance": [],
      "authorship_tag": "ABX9TyMSzcYumtm2YOAuRzWVCKKs",
      "include_colab_link": true
    },
    "kernelspec": {
      "name": "python3",
      "display_name": "Python 3"
    },
    "language_info": {
      "name": "python"
    }
  },
  "cells": [
    {
      "cell_type": "markdown",
      "metadata": {
        "id": "view-in-github",
        "colab_type": "text"
      },
      "source": [
        "<a href=\"https://colab.research.google.com/github/tnrcelik/assignment/blob/main/Assignment3.ipynb\" target=\"_parent\"><img src=\"https://colab.research.google.com/assets/colab-badge.svg\" alt=\"Open In Colab\"/></a>"
      ]
    },
    {
      "cell_type": "code",
      "execution_count": null,
      "metadata": {
        "colab": {
          "base_uri": "https://localhost:8080/"
        },
        "id": "D8Su8Fh8w0sx",
        "outputId": "a1e4123f-e3e1-4852-da05-7aa2bc2bedab"
      },
      "outputs": [
        {
          "output_type": "stream",
          "name": "stdout",
          "text": [
            "Are you a cigarette addict older than 75 years old? Please write 'Yes' or 'No': Yes\n",
            "Do you have a severe chronic disease? Please write 'Yes' or 'No':Yes\n",
            "Is your immune system too weak? Please write 'Yes' or 'No':Yes\n",
            "You are in risky group\n"
          ]
        }
      ],
      "source": [
        "age = input(\"Are you a cigarette addict older than 75 years old? Please write 'Yes' or 'No': \")\n",
        "chronic = input(\"Do you have a severe chronic disease? Please write 'Yes' or 'No':\")\n",
        "immune = input(\"Is your immune system too weak? Please write 'Yes' or 'No':\")\n",
        "if age == \"Yes\":\n",
        "    age = True\n",
        "else:\n",
        "    age = False\n",
        "if chronic == \"Yes\":\n",
        "    chronic = True\n",
        "else:\n",
        "    chronic = False\n",
        "if immune == \"Yes\":\n",
        "    immune = True\n",
        "else:\n",
        "    immune = False\n",
        "if age and chronic and immune:\n",
        "    print(\"You are in risky group\")\n",
        "else:\n",
        "    print(\"You are not in risky group\")"
      ]
    },
    {
      "cell_type": "code",
      "source": [
        "age = input(\"Are you a cigarette addict older than 75 years old? Please write 'Yes' or 'No': \")\n",
        "chronic = input(\"Do you have a severe chronic disease? Please write 'Yes' or 'No':\")\n",
        "immune = input(\"Is your immune system too weak? Please write 'Yes' or 'No':\")\n",
        "if age == \"Yes\":\n",
        "    age = True\n",
        "else:\n",
        "    age = False\n",
        "if chronic == \"Yes\":\n",
        "    chronic = True\n",
        "else:\n",
        "    chronic = False\n",
        "if immune == \"Yes\":\n",
        "    immune = True\n",
        "else:\n",
        "    immune = False\n",
        "if age and chronic and immune:\n",
        "    print(\"there is a risk of death\")\n",
        "else:\n",
        "    print(\"there is not a risk of death\")\n"
      ],
      "metadata": {
        "colab": {
          "base_uri": "https://localhost:8080/"
        },
        "id": "PF2mfCrK0Thc",
        "outputId": "a3210e39-c0e5-4e42-d0fe-02bf85c2391b"
      },
      "execution_count": null,
      "outputs": [
        {
          "output_type": "stream",
          "name": "stdout",
          "text": [
            "Are you a cigarette addict older than 75 years old? Please write 'Yes' or 'No': Yes\n",
            "Do you have a severe chronic disease? Please write 'Yes' or 'No':Yes\n",
            "Is your immune system too weak? Please write 'Yes' or 'No':Yes\n",
            "there is a risk of death\n"
          ]
        }
      ]
    }
  ]
}