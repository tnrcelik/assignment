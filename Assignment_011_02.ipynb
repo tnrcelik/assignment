{
  "nbformat": 4,
  "nbformat_minor": 0,
  "metadata": {
    "colab": {
      "provenance": [],
      "collapsed_sections": [],
      "authorship_tag": "ABX9TyOE6S+uIlmFfPs/6bfQeAsm",
      "include_colab_link": true
    },
    "kernelspec": {
      "name": "python3",
      "display_name": "Python 3"
    },
    "language_info": {
      "name": "python"
    }
  },
  "cells": [
    {
      "cell_type": "markdown",
      "metadata": {
        "id": "view-in-github",
        "colab_type": "text"
      },
      "source": [
        "<a href=\"https://colab.research.google.com/github/tnrcelik/assignment/blob/main/Assignment_011_02.ipynb\" target=\"_parent\"><img src=\"https://colab.research.google.com/assets/colab-badge.svg\" alt=\"Open In Colab\"/></a>"
      ]
    },
    {
      "cell_type": "code",
      "execution_count": null,
      "metadata": {
        "colab": {
          "base_uri": "https://localhost:8080/"
        },
        "id": "eSrHwW0NU_o3",
        "outputId": "26970d56-8751-44e6-80d4-e83d1bcc92f5"
      },
      "outputs": [
        {
          "output_type": "stream",
          "name": "stdout",
          "text": [
            "false\n"
          ]
        }
      ],
      "source": [
        "right = set('yuiophjklnm')\n",
        "\n",
        "left = set('qwertasdfgzxcvb')\n",
        "\n",
        "test = set('tester')\n",
        "\n",
        "result = right.intersection(test)\n",
        "result1 = left.intersection(test)\n",
        "if result == set():\n",
        "  print(\"false\")\n",
        "elif result1 == set():\n",
        "  print(\"false\")\n",
        "else:\n",
        "  print(\"true\")"
      ]
    }
  ]
}