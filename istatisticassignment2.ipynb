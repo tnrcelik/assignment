{
  "nbformat": 4,
  "nbformat_minor": 0,
  "metadata": {
    "colab": {
      "provenance": [],
      "collapsed_sections": [],
      "authorship_tag": "ABX9TyNB5aqqLm5CHvbflfM7NM3V",
      "include_colab_link": true
    },
    "kernelspec": {
      "name": "python3",
      "display_name": "Python 3"
    },
    "language_info": {
      "name": "python"
    }
  },
  "cells": [
    {
      "cell_type": "markdown",
      "metadata": {
        "id": "view-in-github",
        "colab_type": "text"
      },
      "source": [
        "<a href=\"https://colab.research.google.com/github/tnrcelik/assignment/blob/main/istatisticassignment2.ipynb\" target=\"_parent\"><img src=\"https://colab.research.google.com/assets/colab-badge.svg\" alt=\"Open In Colab\"/></a>"
      ]
    },
    {
      "cell_type": "code",
      "source": [
        "import numpy as np\n",
        "import pandas as pd\n",
        "from scipy import stats\n",
        "import seaborn as sns\n",
        "import matplotlib.pyplot as plt"
      ],
      "metadata": {
        "id": "r6RUxCscJ8i1"
      },
      "execution_count": null,
      "outputs": []
    },
    {
      "cell_type": "code",
      "source": [
        "#EXERCISE 1. Suppose scores on exams in statistics are normally distributed with an unknown population mean and a population standard deviation of 3 points.\n",
        "# A random sample of 36 scores is taken and gives a sample mean (sample  mean score) of 68. Find a confidence interval estimate for the population mean exam score (the mean score on all exams).Find a 90% confidence interval for the true (population) mean of statistics exam scores.\n",
        "\n"
      ],
      "metadata": {
        "id": "_qYQHObgKBsV"
      },
      "execution_count": null,
      "outputs": []
    },
    {
      "cell_type": "code",
      "source": [
        "mu=68\n",
        "n=36\n",
        "sigma=3/np.sqrt(36)"
      ],
      "metadata": {
        "id": "uCEkZxK3JwIq"
      },
      "execution_count": null,
      "outputs": []
    },
    {
      "cell_type": "code",
      "source": [
        "stats.norm.ppf(0.90)"
      ],
      "metadata": {
        "colab": {
          "base_uri": "https://localhost:8080/"
        },
        "id": "cE9hAYuLKJAL",
        "outputId": "570c278a-ecdb-44f4-9083-a77eae030176"
      },
      "execution_count": null,
      "outputs": [
        {
          "output_type": "execute_result",
          "data": {
            "text/plain": [
              "1.2815515655446004"
            ]
          },
          "metadata": {},
          "execution_count": 6
        }
      ]
    },
    {
      "cell_type": "code",
      "source": [
        "stats.norm.ppf(0.90,loc=68,scale=0.5)"
      ],
      "metadata": {
        "colab": {
          "base_uri": "https://localhost:8080/"
        },
        "id": "B0ykM22OK49L",
        "outputId": "63e86286-e254-4774-98fe-43769079debe"
      },
      "execution_count": null,
      "outputs": [
        {
          "output_type": "execute_result",
          "data": {
            "text/plain": [
              "68.6407757827723"
            ]
          },
          "metadata": {},
          "execution_count": 7
        }
      ]
    },
    {
      "cell_type": "code",
      "source": [
        "stats.norm.interval(0.90, loc=mu, scale=sigma)"
      ],
      "metadata": {
        "colab": {
          "base_uri": "https://localhost:8080/"
        },
        "id": "1CSfnxrDK7nz",
        "outputId": "c7ca668c-27a9-4252-8f78-1676d7edc45e"
      },
      "execution_count": null,
      "outputs": [
        {
          "output_type": "execute_result",
          "data": {
            "text/plain": [
              "(67.17757318652427, 68.82242681347573)"
            ]
          },
          "metadata": {},
          "execution_count": 8
        }
      ]
    },
    {
      "cell_type": "code",
      "source": [
        "stats.norm.ppf(0.90,loc=68,scale=0.5)"
      ],
      "metadata": {
        "colab": {
          "base_uri": "https://localhost:8080/"
        },
        "id": "VjoG07j2K_tD",
        "outputId": "7af4987f-9829-4c01-8c57-486107753dc1"
      },
      "execution_count": null,
      "outputs": [
        {
          "output_type": "execute_result",
          "data": {
            "text/plain": [
              "68.6407757827723"
            ]
          },
          "metadata": {},
          "execution_count": 9
        }
      ]
    },
    {
      "cell_type": "code",
      "source": [
        "#EXERCISE 2. What is the normal body temperature for healthy humans? A random sample of 130 healthy human body temperatures provided by Allen Shoemaker7 yielded 98.25 degrees and standard deviation 0.73 degrees. \n",
        "\n",
        "#Give a 99% confidence interval for the average body temperature of healthy people."
      ],
      "metadata": {
        "id": "DywfTtH7LKqK"
      },
      "execution_count": null,
      "outputs": []
    },
    {
      "cell_type": "code",
      "source": [],
      "metadata": {
        "id": "Pg35bZVVV7XV"
      },
      "execution_count": null,
      "outputs": []
    },
    {
      "cell_type": "code",
      "source": [
        "mu=98.25\n",
        "n=130 \n",
        "ss=0.73\n",
        "sigma=ss/np.sqrt(n)"
      ],
      "metadata": {
        "id": "F7tVg_I_LN_7"
      },
      "execution_count": null,
      "outputs": []
    },
    {
      "cell_type": "code",
      "source": [
        "stats.norm.interval(0.99, loc=mu, scale=sigma)"
      ],
      "metadata": {
        "colab": {
          "base_uri": "https://localhost:8080/"
        },
        "id": "CigMXMt8LRDz",
        "outputId": "ed767dcb-00a6-4134-ab5e-4e46ef5f1f86"
      },
      "execution_count": null,
      "outputs": [
        {
          "output_type": "execute_result",
          "data": {
            "text/plain": [
              "(98.08508192246582, 98.41491807753418)"
            ]
          },
          "metadata": {},
          "execution_count": 13
        }
      ]
    },
    {
      "cell_type": "code",
      "source": [
        "#EXERCISE 3. The administrators for a hospital wished to estimate the average number of days required for inpatient treatment of patients between the ages of 25 and 34. A random sample of 500 hospital patients between these ages produced a mean and standard deviation equal to 5.4 and 3.1 days, respectively.\n",
        "#Construct a 95% confidence interval for the mean length of stay for the population of patients from which the sample was drawn."
      ],
      "metadata": {
        "id": "YArLEWyiMf9S"
      },
      "execution_count": null,
      "outputs": []
    },
    {
      "cell_type": "code",
      "source": [
        "#n=500   ,     xbar=5.4    ,     s=3.1     Z=1.96 for 95%"
      ],
      "metadata": {
        "id": "7MVPOWohZnQv"
      },
      "execution_count": null,
      "outputs": []
    },
    {
      "cell_type": "code",
      "source": [
        "#Z Distribution\n",
        "xbar3=5.4\n",
        "moe= 1.96 * (3.1)/np.sqrt(500)\n",
        "upper=xbar3+moe\n",
        "lower=xbar3-moe\n",
        "print(f\"({lower} , {upper})\")"
      ],
      "metadata": {
        "colab": {
          "base_uri": "https://localhost:8080/"
        },
        "id": "jbTmWgaAZ2G5",
        "outputId": "fde26368-f8dc-41f5-9014-c5e63c165b94"
      },
      "execution_count": null,
      "outputs": [
        {
          "output_type": "stream",
          "name": "stdout",
          "text": [
            "(5.128273019374226 , 5.671726980625775)\n"
          ]
        }
      ]
    },
    {
      "cell_type": "code",
      "source": [
        "#T Distribution\n",
        "n=500\n",
        "s=3.1\n",
        "stats.t.interval(alpha=0.95,\n",
        "                df=n-1,\n",
        "                loc=xbar3,\n",
        "                scale=s/np.sqrt(n))"
      ],
      "metadata": {
        "colab": {
          "base_uri": "https://localhost:8080/"
        },
        "id": "oksVB7PTZSwq",
        "outputId": "9ea88b7b-4bca-4c8b-d438-56f0f4c16583"
      },
      "execution_count": null,
      "outputs": [
        {
          "output_type": "execute_result",
          "data": {
            "text/plain": [
              "(5.127617354510309, 5.672382645489692)"
            ]
          },
          "metadata": {},
          "execution_count": 7
        }
      ]
    }
  ]
}